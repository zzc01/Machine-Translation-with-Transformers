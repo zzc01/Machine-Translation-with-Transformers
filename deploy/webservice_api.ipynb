{
 "cells": [
  {
   "cell_type": "markdown",
   "metadata": {
    "id": "f_LdgW0Ofv1M"
   },
   "source": [
    "# Translator API "
   ]
  },
  {
   "cell_type": "markdown",
   "metadata": {},
   "source": [
    "# Library"
   ]
  },
  {
   "cell_type": "code",
   "execution_count": 1,
   "metadata": {
    "id": "CHRz_2NMfv1M"
   },
   "outputs": [],
   "source": [
    "import requests\n",
    "import json"
   ]
  },
  {
   "cell_type": "markdown",
   "metadata": {},
   "source": [
    "# Access end point \"/\"\n",
    "1. localhost: curl -X GET 0.0.0.0:80\n",
    "2. AWS EC2: curl -X GET ec2-13-52-77-209.us-west-1.compute.amazonaws.com"
   ]
  },
  {
   "cell_type": "code",
   "execution_count": 2,
   "metadata": {},
   "outputs": [
    {
     "name": "stdout",
     "output_type": "stream",
     "text": [
      "<class 'requests.models.Response'>\n",
      "200\n",
      "Hello World!\n",
      "b'Hello World!'\n",
      "Hello World!\n"
     ]
    }
   ],
   "source": [
    "# serviceURL = 'http://0.0.0.0/'\n",
    "serviceURL = 'http://ec2-54-215-188-137.us-west-1.compute.amazonaws.com/'\n",
    "ret = requests.get(serviceURL)\n",
    "print(type(ret))\n",
    "print(ret.status_code)\n",
    "print(ret.text)\n",
    "print(ret.content)\n",
    "print(ret.content.decode('utf-8'))"
   ]
  },
  {
   "cell_type": "markdown",
   "metadata": {},
   "source": [
    "# Access endpoint \"/predict\"\n",
    "1. localhost: curl -X POST 0.0.0.0:80/predict -H 'Content-Type: application/json' -d '\"Ich liebe Tom wirklich.\"'\n",
    "2. AWS EC2: curl -X POST ec2-13-52-77-209.us-west-1.compute.amazonaws.com/predict -H 'Content-Type: application/json' -d '\"Ich liebe Tom wirklich.\"'"
   ]
  },
  {
   "cell_type": "markdown",
   "metadata": {},
   "source": [
    "Example usage of json post: </br>\n",
    "import json </br>\n",
    "import requests</br>\n",
    "\n",
    "\\# Prepare the JSON data </br>\n",
    "data = {'name': 'John', 'age': 30} </br>\n",
    "json_data = json.dumps(data) </br>\n",
    "\n",
    "\\# Send the POST request with JSON data </br>\n",
    "headers = {'Content-type': 'application/json'} </br>\n",
    "response = requests.post('https://httpbin.org/post', data=json_data, headers=headers) </br>\n",
    "\n",
    "\\# Print the response </br>\n",
    "print(response.text) </br>"
   ]
  },
  {
   "cell_type": "code",
   "execution_count": 3,
   "metadata": {},
   "outputs": [],
   "source": [
    "serviceURL = 'http://ec2-54-215-188-137.us-west-1.compute.amazonaws.com/predict'\n",
    "# serviceURL = 'http://0.0.0.0/predict'"
   ]
  },
  {
   "cell_type": "code",
   "execution_count": 4,
   "metadata": {},
   "outputs": [],
   "source": [
    "def translate(data, url):\n",
    "    # Prepare the JSON raw test data\n",
    "    # data = '\"Ich liebe Tom wirklich.\"'\n",
    "\n",
    "    # Send the POST request with JSON data\n",
    "    headers = {'Content-type': 'application/json'}\n",
    "    # response = requests.post(serviceURL, data=json_data, headers=headers)\n",
    "    response = requests.post(url, data=data, headers=headers)\n",
    "\n",
    "    # Print the response\n",
    "    print(response)\n",
    "    print(response.content)\n",
    "    print(response.content.decode('utf-8'))\n",
    "    print(response.text)\n"
   ]
  },
  {
   "cell_type": "code",
   "execution_count": 5,
   "metadata": {},
   "outputs": [
    {
     "name": "stdout",
     "output_type": "stream",
     "text": [
      "<Response [200]>\n",
      "b'she lost sight of her friend in a huge crowd .'\n",
      "she lost sight of her friend in a huge crowd .\n",
      "she lost sight of her friend in a huge crowd .\n"
     ]
    }
   ],
   "source": [
    "data = \"In der riesigen Menge verlor sie ihren Freund aus den Augen.\"\n",
    "data = '\"' + data + '\"'\n",
    "translate(data, serviceURL)"
   ]
  }
 ],
 "metadata": {
  "colab": {
   "provenance": []
  },
  "interpreter": {
   "hash": "4885f37acae9217c235118400878352aafa7b76e66df698a1f601374f86939a7"
  },
  "kernelspec": {
   "display_name": "Python 3",
   "language": "python",
   "name": "python3"
  },
  "language_info": {
   "codemirror_mode": {
    "name": "ipython",
    "version": 3
   },
   "file_extension": ".py",
   "mimetype": "text/x-python",
   "name": "python",
   "nbconvert_exporter": "python",
   "pygments_lexer": "ipython3",
   "version": "3.7.15"
  }
 },
 "nbformat": 4,
 "nbformat_minor": 4
}
